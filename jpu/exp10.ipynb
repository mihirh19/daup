{
 "cells": [
  {
   "cell_type": "markdown",
   "metadata": {},
   "source": [
    "<h1 style=\"text-align: center;\">Experiment 10</h1>"
   ]
  },
  {
   "cell_type": "markdown",
   "metadata": {},
   "source": [
    "<h4> Aim : To perform basic Web-Scraping tasks using the Beautiful soup package in Python.</h4>"
   ]
  },
  {
   "cell_type": "code",
   "execution_count": 1,
   "metadata": {},
   "outputs": [],
   "source": [
    "import pandas as pd\n",
    "from bs4 import BeautifulSoup\n",
    "import requests\n",
    "import re"
   ]
  },
  {
   "cell_type": "code",
   "execution_count": 2,
   "metadata": {},
   "outputs": [],
   "source": [
    "uri = 'https://www.nike.com/in/w/mens-shoes-nik1zy7ok'\n",
    "data  = requests.get(uri)"
   ]
  },
  {
   "cell_type": "code",
   "execution_count": 3,
   "metadata": {},
   "outputs": [],
   "source": [
    "soup = BeautifulSoup(data.content, 'html.parser')"
   ]
  },
  {
   "cell_type": "code",
   "execution_count": 4,
   "metadata": {},
   "outputs": [],
   "source": [
    "product_names = soup.find_all('div', {'class' :  'product-card__titles'})\n",
    "name_items = [i.text for i in product_names]"
   ]
  },
  {
   "cell_type": "code",
   "execution_count": 5,
   "metadata": {},
   "outputs": [
    {
     "data": {
      "text/plain": [
       "[\"Nike Air Force 1 '07 LV8Men's Shoes\",\n",
       " \"Nike Air Max 1 SEMen's Shoe\",\n",
       " \"Nike Dunk Low Retro SEMen's Shoes\",\n",
       " \"Jordan Stadium 90Men's Shoes\",\n",
       " \"Nike Dunk Low RetroMen's Shoe\",\n",
       " \"Nike Air Force 1 '07Men's Shoes\",\n",
       " \"Nike Air Max 1Men's shoes\",\n",
       " 'Nike V2K RunShoes',\n",
       " \"Nike Air Force 1 '07 LXMen's Shoes\",\n",
       " \"Nike Air Dunk Low JumboMen's Shoes\",\n",
       " \"Nike Air Max IshodMen's Shoes\",\n",
       " 'Book 1 EPBasketball Shoes',\n",
       " \"Nike CortezMen's Shoes\",\n",
       " \"NOCTA Zoom DriveMen's Shoes\",\n",
       " \"Air Jordan 1 Low SEMen's Shoes\",\n",
       " \"Nike Revolution 7 EasyOnMen's Road Running Shoes\",\n",
       " \"Nike Court Vision Low Next NatureMen's Shoes\",\n",
       " \"Air Jordan 1 Low SE CraftMen's Shoes\",\n",
       " \"Nike Air Force 1 '07 FreshMen's Shoes\",\n",
       " \"Air Jordan 1 Low SEMen's Shoes\",\n",
       " 'Nike Court Vision LowShoes',\n",
       " \"Nike Air Max 97Men's Shoes\",\n",
       " \"Jumpman MVPMen's Shoes\",\n",
       " \"Jordan Stay Loyal 3Men's shoes\"]"
      ]
     },
     "execution_count": 5,
     "metadata": {},
     "output_type": "execute_result"
    }
   ],
   "source": [
    "name_items"
   ]
  },
  {
   "cell_type": "code",
   "execution_count": 6,
   "metadata": {},
   "outputs": [],
   "source": [
    "prices = soup.find_all('div', {'class' : 'product-price'})\n",
    "prices_items = [float(i.text.split()[3] + i.text.split()[4]) for i in prices]"
   ]
  },
  {
   "cell_type": "code",
   "execution_count": 7,
   "metadata": {},
   "outputs": [
    {
     "data": {
      "text/plain": [
       "[10795.0,\n",
       " 13995.0,\n",
       " 10795.0,\n",
       " 12795.0,\n",
       " 8295.0,\n",
       " 7495.0,\n",
       " 12795.0,\n",
       " 10795.0,\n",
       " 11895.0,\n",
       " 11495.0,\n",
       " 9695.0,\n",
       " 12795.0,\n",
       " 9695.0,\n",
       " 15295.0,\n",
       " 10295.0,\n",
       " 3695.0,\n",
       " 4995.0,\n",
       " 10295.0,\n",
       " 11295.0,\n",
       " 10295.0,\n",
       " 4995.0,\n",
       " 16995.0,\n",
       " 15295.0,\n",
       " 10295.0]"
      ]
     },
     "execution_count": 7,
     "metadata": {},
     "output_type": "execute_result"
    }
   ],
   "source": [
    "prices_items"
   ]
  },
  {
   "cell_type": "code",
   "execution_count": 8,
   "metadata": {},
   "outputs": [],
   "source": [
    "df = pd.DataFrame(columns=['items', 'price'])\n",
    "df['items' ] = name_items\n",
    "df['price'] = prices_items"
   ]
  },
  {
   "cell_type": "code",
   "execution_count": 9,
   "metadata": {},
   "outputs": [
    {
     "data": {
      "text/html": [
       "<div>\n",
       "<style scoped>\n",
       "    .dataframe tbody tr th:only-of-type {\n",
       "        vertical-align: middle;\n",
       "    }\n",
       "\n",
       "    .dataframe tbody tr th {\n",
       "        vertical-align: top;\n",
       "    }\n",
       "\n",
       "    .dataframe thead th {\n",
       "        text-align: right;\n",
       "    }\n",
       "</style>\n",
       "<table border=\"1\" class=\"dataframe\">\n",
       "  <thead>\n",
       "    <tr style=\"text-align: right;\">\n",
       "      <th></th>\n",
       "      <th>items</th>\n",
       "      <th>price</th>\n",
       "    </tr>\n",
       "  </thead>\n",
       "  <tbody>\n",
       "    <tr>\n",
       "      <th>0</th>\n",
       "      <td>Nike Air Force 1 '07 LV8Men's Shoes</td>\n",
       "      <td>10795.0</td>\n",
       "    </tr>\n",
       "    <tr>\n",
       "      <th>1</th>\n",
       "      <td>Nike Air Max 1 SEMen's Shoe</td>\n",
       "      <td>13995.0</td>\n",
       "    </tr>\n",
       "    <tr>\n",
       "      <th>2</th>\n",
       "      <td>Nike Dunk Low Retro SEMen's Shoes</td>\n",
       "      <td>10795.0</td>\n",
       "    </tr>\n",
       "    <tr>\n",
       "      <th>3</th>\n",
       "      <td>Jordan Stadium 90Men's Shoes</td>\n",
       "      <td>12795.0</td>\n",
       "    </tr>\n",
       "    <tr>\n",
       "      <th>4</th>\n",
       "      <td>Nike Dunk Low RetroMen's Shoe</td>\n",
       "      <td>8295.0</td>\n",
       "    </tr>\n",
       "    <tr>\n",
       "      <th>5</th>\n",
       "      <td>Nike Air Force 1 '07Men's Shoes</td>\n",
       "      <td>7495.0</td>\n",
       "    </tr>\n",
       "    <tr>\n",
       "      <th>6</th>\n",
       "      <td>Nike Air Max 1Men's shoes</td>\n",
       "      <td>12795.0</td>\n",
       "    </tr>\n",
       "    <tr>\n",
       "      <th>7</th>\n",
       "      <td>Nike V2K RunShoes</td>\n",
       "      <td>10795.0</td>\n",
       "    </tr>\n",
       "    <tr>\n",
       "      <th>8</th>\n",
       "      <td>Nike Air Force 1 '07 LXMen's Shoes</td>\n",
       "      <td>11895.0</td>\n",
       "    </tr>\n",
       "    <tr>\n",
       "      <th>9</th>\n",
       "      <td>Nike Air Dunk Low JumboMen's Shoes</td>\n",
       "      <td>11495.0</td>\n",
       "    </tr>\n",
       "    <tr>\n",
       "      <th>10</th>\n",
       "      <td>Nike Air Max IshodMen's Shoes</td>\n",
       "      <td>9695.0</td>\n",
       "    </tr>\n",
       "    <tr>\n",
       "      <th>11</th>\n",
       "      <td>Book 1 EPBasketball Shoes</td>\n",
       "      <td>12795.0</td>\n",
       "    </tr>\n",
       "    <tr>\n",
       "      <th>12</th>\n",
       "      <td>Nike CortezMen's Shoes</td>\n",
       "      <td>9695.0</td>\n",
       "    </tr>\n",
       "    <tr>\n",
       "      <th>13</th>\n",
       "      <td>NOCTA Zoom DriveMen's Shoes</td>\n",
       "      <td>15295.0</td>\n",
       "    </tr>\n",
       "    <tr>\n",
       "      <th>14</th>\n",
       "      <td>Air Jordan 1 Low SEMen's Shoes</td>\n",
       "      <td>10295.0</td>\n",
       "    </tr>\n",
       "    <tr>\n",
       "      <th>15</th>\n",
       "      <td>Nike Revolution 7 EasyOnMen's Road Running Shoes</td>\n",
       "      <td>3695.0</td>\n",
       "    </tr>\n",
       "    <tr>\n",
       "      <th>16</th>\n",
       "      <td>Nike Court Vision Low Next NatureMen's Shoes</td>\n",
       "      <td>4995.0</td>\n",
       "    </tr>\n",
       "    <tr>\n",
       "      <th>17</th>\n",
       "      <td>Air Jordan 1 Low SE CraftMen's Shoes</td>\n",
       "      <td>10295.0</td>\n",
       "    </tr>\n",
       "    <tr>\n",
       "      <th>18</th>\n",
       "      <td>Nike Air Force 1 '07 FreshMen's Shoes</td>\n",
       "      <td>11295.0</td>\n",
       "    </tr>\n",
       "    <tr>\n",
       "      <th>19</th>\n",
       "      <td>Air Jordan 1 Low SEMen's Shoes</td>\n",
       "      <td>10295.0</td>\n",
       "    </tr>\n",
       "    <tr>\n",
       "      <th>20</th>\n",
       "      <td>Nike Court Vision LowShoes</td>\n",
       "      <td>4995.0</td>\n",
       "    </tr>\n",
       "    <tr>\n",
       "      <th>21</th>\n",
       "      <td>Nike Air Max 97Men's Shoes</td>\n",
       "      <td>16995.0</td>\n",
       "    </tr>\n",
       "    <tr>\n",
       "      <th>22</th>\n",
       "      <td>Jumpman MVPMen's Shoes</td>\n",
       "      <td>15295.0</td>\n",
       "    </tr>\n",
       "    <tr>\n",
       "      <th>23</th>\n",
       "      <td>Jordan Stay Loyal 3Men's shoes</td>\n",
       "      <td>10295.0</td>\n",
       "    </tr>\n",
       "  </tbody>\n",
       "</table>\n",
       "</div>"
      ],
      "text/plain": [
       "                                               items    price\n",
       "0                Nike Air Force 1 '07 LV8Men's Shoes  10795.0\n",
       "1                        Nike Air Max 1 SEMen's Shoe  13995.0\n",
       "2                  Nike Dunk Low Retro SEMen's Shoes  10795.0\n",
       "3                       Jordan Stadium 90Men's Shoes  12795.0\n",
       "4                      Nike Dunk Low RetroMen's Shoe   8295.0\n",
       "5                    Nike Air Force 1 '07Men's Shoes   7495.0\n",
       "6                          Nike Air Max 1Men's shoes  12795.0\n",
       "7                                  Nike V2K RunShoes  10795.0\n",
       "8                 Nike Air Force 1 '07 LXMen's Shoes  11895.0\n",
       "9                 Nike Air Dunk Low JumboMen's Shoes  11495.0\n",
       "10                     Nike Air Max IshodMen's Shoes   9695.0\n",
       "11                         Book 1 EPBasketball Shoes  12795.0\n",
       "12                            Nike CortezMen's Shoes   9695.0\n",
       "13                       NOCTA Zoom DriveMen's Shoes  15295.0\n",
       "14                    Air Jordan 1 Low SEMen's Shoes  10295.0\n",
       "15  Nike Revolution 7 EasyOnMen's Road Running Shoes   3695.0\n",
       "16      Nike Court Vision Low Next NatureMen's Shoes   4995.0\n",
       "17              Air Jordan 1 Low SE CraftMen's Shoes  10295.0\n",
       "18             Nike Air Force 1 '07 FreshMen's Shoes  11295.0\n",
       "19                    Air Jordan 1 Low SEMen's Shoes  10295.0\n",
       "20                        Nike Court Vision LowShoes   4995.0\n",
       "21                        Nike Air Max 97Men's Shoes  16995.0\n",
       "22                            Jumpman MVPMen's Shoes  15295.0\n",
       "23                    Jordan Stay Loyal 3Men's shoes  10295.0"
      ]
     },
     "execution_count": 9,
     "metadata": {},
     "output_type": "execute_result"
    }
   ],
   "source": [
    "df"
   ]
  },
  {
   "cell_type": "code",
   "execution_count": 10,
   "metadata": {},
   "outputs": [],
   "source": [
    "df.to_csv(\"./nike_shoes.csv\")"
   ]
  }
 ],
 "metadata": {
  "kernelspec": {
   "display_name": "Python 3 (ipykernel)",
   "language": "python",
   "name": "python3"
  },
  "language_info": {
   "codemirror_mode": {
    "name": "ipython",
    "version": 3
   },
   "file_extension": ".py",
   "mimetype": "text/x-python",
   "name": "python",
   "nbconvert_exporter": "python",
   "pygments_lexer": "ipython3",
   "version": "3.12.1"
  },
  "widgets": {
   "application/vnd.jupyter.widget-state+json": {
    "state": {},
    "version_major": 2,
    "version_minor": 0
   }
  }
 },
 "nbformat": 4,
 "nbformat_minor": 4
}
